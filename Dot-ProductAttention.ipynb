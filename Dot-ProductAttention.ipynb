{
 "cells": [
  {
   "cell_type": "code",
   "execution_count": 1,
   "metadata": {},
   "outputs": [],
   "source": [
    "import torch\n",
    "from torch.nn import functional as F"
   ]
  },
  {
   "cell_type": "code",
   "execution_count": 2,
   "metadata": {},
   "outputs": [],
   "source": [
    "# 初始化向量\n",
    "x1 = torch.randn(1, 3, 4)\n",
    "x2 = torch.randn(1, 5, 4)"
   ]
  },
  {
   "cell_type": "code",
   "execution_count": 3,
   "metadata": {},
   "outputs": [
    {
     "name": "stdout",
     "output_type": "stream",
     "text": [
      "similarity_score:\n",
      " tensor([[[ 1.3041, -1.2298,  1.0772, -1.4588, -0.6118],\n",
      "         [ 3.2634, -4.0418,  7.1824, -2.5894, -4.6967],\n",
      "         [-0.8591,  0.9973, -5.0011, -1.3004,  4.4062]]])\n"
     ]
    }
   ],
   "source": [
    "# 计算相似度得分\n",
    "similarity_score = torch.matmul(x1, x2.transpose(1, 2))\n",
    "print('similarity_score:\\n', similarity_score)"
   ]
  },
  {
   "cell_type": "code",
   "execution_count": null,
   "metadata": {},
   "outputs": [
    {
     "name": "stdout",
     "output_type": "stream",
     "text": [
      "attn_weight:\n",
      " tensor([[[4.7923e-01, 3.8029e-02, 3.8195e-01, 3.0244e-02, 7.0548e-02],\n",
      "         [1.9472e-02, 1.3085e-05, 9.8045e-01, 5.5919e-05, 6.7978e-06],\n",
      "         [4.9612e-03, 3.1755e-02, 7.8840e-05, 3.1911e-03, 9.6001e-01]]])\n"
     ]
    }
   ],
   "source": [
    "# 注意力权重\n",
    "attn_weight = F.softmax(similarity_score, dim=2)\n",
    "print('attn_weight:\\n', attn_weight)"
   ]
  },
  {
   "cell_type": "code",
   "execution_count": 5,
   "metadata": {},
   "outputs": [
    {
     "name": "stdout",
     "output_type": "stream",
     "text": [
      "attn_output:\n",
      " tensor([[[ 0.7047,  0.5608, -0.0482,  0.1224],\n",
      "         [ 1.4112,  0.6935, -0.7575,  0.6335],\n",
      "         [-0.6369, -1.3096,  0.8181,  0.6053]]])\n"
     ]
    }
   ],
   "source": [
    "# 计算注意力输出\n",
    "attn_output = torch.matmul(attn_weight, x2)\n",
    "print('attn_output:\\n', attn_output)"
   ]
  }
 ],
 "metadata": {
  "kernelspec": {
   "display_name": "myEnv",
   "language": "python",
   "name": "python3"
  },
  "language_info": {
   "codemirror_mode": {
    "name": "ipython",
    "version": 3
   },
   "file_extension": ".py",
   "mimetype": "text/x-python",
   "name": "python",
   "nbconvert_exporter": "python",
   "pygments_lexer": "ipython3",
   "version": "3.8.19"
  }
 },
 "nbformat": 4,
 "nbformat_minor": 2
}
