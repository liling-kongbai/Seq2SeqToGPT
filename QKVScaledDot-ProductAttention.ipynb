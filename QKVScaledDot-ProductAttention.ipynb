{
 "cells": [
  {
   "cell_type": "code",
   "execution_count": 1,
   "metadata": {},
   "outputs": [],
   "source": [
    "import torch\n",
    "from torch.nn import functional as F"
   ]
  },
  {
   "cell_type": "code",
   "execution_count": 2,
   "metadata": {},
   "outputs": [],
   "source": [
    "Q = torch.randn(1, 3, 4)\n",
    "K = torch.randn(1, 4, 4)\n",
    "V = torch.randn(1, 4, 4)"
   ]
  },
  {
   "cell_type": "code",
   "execution_count": 3,
   "metadata": {},
   "outputs": [
    {
     "name": "stdout",
     "output_type": "stream",
     "text": [
      "similarity_score:\n",
      " tensor([[[-0.9860, -4.0286, -2.6361,  0.6337],\n",
      "         [-2.7886, -3.4204, -1.7496, -0.7183],\n",
      "         [ 1.4888,  4.4936,  3.4347, -0.4829]]])\n"
     ]
    }
   ],
   "source": [
    "# 相似度得分\n",
    "similarity_score = torch.matmul(Q, K.transpose(-2, -1))\n",
    "print('similarity_score:\\n', similarity_score)"
   ]
  },
  {
   "cell_type": "code",
   "execution_count": 4,
   "metadata": {},
   "outputs": [
    {
     "name": "stdout",
     "output_type": "stream",
     "text": [
      "scale_factor:\n",
      " 2.0\n",
      "scale_weight:\n",
      " tensor([[[-0.4930, -2.0143, -1.3181,  0.3168],\n",
      "         [-1.3943, -1.7102, -0.8748, -0.3591],\n",
      "         [ 0.7444,  2.2468,  1.7174, -0.2414]]])\n"
     ]
    }
   ],
   "source": [
    "# 缩放\n",
    "scale_factor = similarity_score.size(-1) ** 0.5\n",
    "print('scale_factor:\\n', scale_factor)\n",
    "scale_weight = similarity_score / scale_factor\n",
    "print('scale_weight:\\n', scale_weight)"
   ]
  },
  {
   "cell_type": "code",
   "execution_count": 5,
   "metadata": {},
   "outputs": [
    {
     "name": "stdout",
     "output_type": "stream",
     "text": [
      "attn_weight:\n",
      " tensor([[[0.2561, 0.0559, 0.1122, 0.5757],\n",
      "         [0.1606, 0.1171, 0.2700, 0.4522],\n",
      "         [0.1175, 0.5278, 0.3109, 0.0438]]])\n"
     ]
    }
   ],
   "source": [
    "# 注意力权重\n",
    "attn_weight = F.softmax(scale_weight, dim=-1)\n",
    "print('attn_weight:\\n', attn_weight)"
   ]
  },
  {
   "cell_type": "code",
   "execution_count": 6,
   "metadata": {},
   "outputs": [
    {
     "name": "stdout",
     "output_type": "stream",
     "text": [
      "attn_output:\n",
      " tensor([[[ 0.8463,  0.1910, -0.7612,  0.4463],\n",
      "         [ 0.8737,  0.0964, -0.6657,  0.3455],\n",
      "         [ 0.5151, -0.0806, -0.6415, -0.1069]]])\n"
     ]
    }
   ],
   "source": [
    "# 注意力输出\n",
    "attn_output = torch.matmul(attn_weight, V)\n",
    "print('attn_output:\\n', attn_output)"
   ]
  }
 ],
 "metadata": {
  "kernelspec": {
   "display_name": "myEnv",
   "language": "python",
   "name": "python3"
  },
  "language_info": {
   "codemirror_mode": {
    "name": "ipython",
    "version": 3
   },
   "file_extension": ".py",
   "mimetype": "text/x-python",
   "name": "python",
   "nbconvert_exporter": "python",
   "pygments_lexer": "ipython3",
   "version": "3.8.19"
  }
 },
 "nbformat": 4,
 "nbformat_minor": 2
}
